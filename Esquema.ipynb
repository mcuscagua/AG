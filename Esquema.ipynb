{
 "cells": [
  {
   "cell_type": "code",
   "execution_count": 10,
   "metadata": {},
   "outputs": [
    {
     "name": "stdout",
     "output_type": "stream",
     "text": [
      "Requirement already satisfied: yfinance in c:\\users\\usuario\\anaconda3\\lib\\site-packages (0.1.55)\n",
      "Requirement already satisfied: lxml>=4.5.1 in c:\\users\\usuario\\anaconda3\\lib\\site-packages (from yfinance) (4.6.2)\n",
      "Requirement already satisfied: numpy>=1.15 in c:\\users\\usuario\\anaconda3\\lib\\site-packages (from yfinance) (1.16.2)\n",
      "Requirement already satisfied: pandas>=0.24 in c:\\users\\usuario\\anaconda3\\lib\\site-packages (from yfinance) (0.24.2)\n",
      "Requirement already satisfied: requests>=2.20 in c:\\users\\usuario\\anaconda3\\lib\\site-packages (from yfinance) (2.21.0)\n",
      "Requirement already satisfied: multitasking>=0.0.7 in c:\\users\\usuario\\anaconda3\\lib\\site-packages (from yfinance) (0.0.9)\n",
      "Requirement already satisfied: pytz>=2011k in c:\\users\\usuario\\anaconda3\\lib\\site-packages (from pandas>=0.24->yfinance) (2018.9)\n",
      "Requirement already satisfied: python-dateutil>=2.5.0 in c:\\users\\usuario\\anaconda3\\lib\\site-packages (from pandas>=0.24->yfinance) (2.8.0)\n",
      "Requirement already satisfied: idna<2.9,>=2.5 in c:\\users\\usuario\\anaconda3\\lib\\site-packages (from requests>=2.20->yfinance) (2.8)\n",
      "Requirement already satisfied: urllib3<1.25,>=1.21.1 in c:\\users\\usuario\\anaconda3\\lib\\site-packages (from requests>=2.20->yfinance) (1.24.1)\n",
      "Requirement already satisfied: chardet<3.1.0,>=3.0.2 in c:\\users\\usuario\\anaconda3\\lib\\site-packages (from requests>=2.20->yfinance) (3.0.4)\n",
      "Requirement already satisfied: certifi>=2017.4.17 in c:\\users\\usuario\\anaconda3\\lib\\site-packages (from requests>=2.20->yfinance) (2019.3.9)\n",
      "Requirement already satisfied: six>=1.5 in c:\\users\\usuario\\anaconda3\\lib\\site-packages (from python-dateutil>=2.5.0->pandas>=0.24->yfinance) (1.12.0)\n",
      "Requirement already satisfied: pyfolio in c:\\users\\usuario\\anaconda3\\lib\\site-packages (0.9.2)\n",
      "Requirement already satisfied: seaborn>=0.7.1 in c:\\users\\usuario\\anaconda3\\lib\\site-packages (from pyfolio) (0.9.0)\n",
      "Requirement already satisfied: scipy>=0.14.0 in c:\\users\\usuario\\anaconda3\\lib\\site-packages (from pyfolio) (1.2.1)\n",
      "Requirement already satisfied: matplotlib>=1.4.0 in c:\\users\\usuario\\anaconda3\\lib\\site-packages (from pyfolio) (3.0.3)\n",
      "Requirement already satisfied: empyrical>=0.5.0 in c:\\users\\usuario\\anaconda3\\lib\\site-packages (from pyfolio) (0.5.5)\n",
      "Requirement already satisfied: pytz>=2014.10 in c:\\users\\usuario\\anaconda3\\lib\\site-packages (from pyfolio) (2018.9)\n",
      "Requirement already satisfied: pandas>=0.18.1 in c:\\users\\usuario\\anaconda3\\lib\\site-packages (from pyfolio) (0.24.2)\n",
      "Requirement already satisfied: numpy>=1.11.1 in c:\\users\\usuario\\anaconda3\\lib\\site-packages (from pyfolio) (1.16.2)\n",
      "Requirement already satisfied: ipython>=3.2.3 in c:\\users\\usuario\\anaconda3\\lib\\site-packages (from pyfolio) (7.4.0)\n",
      "Requirement already satisfied: scikit-learn>=0.16.1 in c:\\users\\usuario\\anaconda3\\lib\\site-packages (from pyfolio) (0.20.3)\n",
      "Requirement already satisfied: cycler>=0.10 in c:\\users\\usuario\\anaconda3\\lib\\site-packages (from matplotlib>=1.4.0->pyfolio) (0.10.0)\n",
      "Requirement already satisfied: kiwisolver>=1.0.1 in c:\\users\\usuario\\anaconda3\\lib\\site-packages (from matplotlib>=1.4.0->pyfolio) (1.0.1)\n",
      "Requirement already satisfied: pyparsing!=2.0.4,!=2.1.2,!=2.1.6,>=2.0.1 in c:\\users\\usuario\\anaconda3\\lib\\site-packages (from matplotlib>=1.4.0->pyfolio) (2.3.1)\n",
      "Requirement already satisfied: python-dateutil>=2.1 in c:\\users\\usuario\\anaconda3\\lib\\site-packages (from matplotlib>=1.4.0->pyfolio) (2.8.0)\n",
      "Requirement already satisfied: pandas-datareader>=0.2 in c:\\users\\usuario\\anaconda3\\lib\\site-packages (from empyrical>=0.5.0->pyfolio) (0.9.0)\n",
      "Requirement already satisfied: decorator in c:\\users\\usuario\\anaconda3\\lib\\site-packages (from ipython>=3.2.3->pyfolio) (4.4.0)\n",
      "Requirement already satisfied: pygments in c:\\users\\usuario\\anaconda3\\lib\\site-packages (from ipython>=3.2.3->pyfolio) (2.3.1)\n",
      "Requirement already satisfied: setuptools>=18.5 in c:\\users\\usuario\\anaconda3\\lib\\site-packages (from ipython>=3.2.3->pyfolio) (40.8.0)\n",
      "Requirement already satisfied: colorama; sys_platform == \"win32\" in c:\\users\\usuario\\anaconda3\\lib\\site-packages (from ipython>=3.2.3->pyfolio) (0.4.1)\n",
      "Requirement already satisfied: backcall in c:\\users\\usuario\\anaconda3\\lib\\site-packages (from ipython>=3.2.3->pyfolio) (0.1.0)\n",
      "Requirement already satisfied: prompt-toolkit<2.1.0,>=2.0.0 in c:\\users\\usuario\\anaconda3\\lib\\site-packages (from ipython>=3.2.3->pyfolio) (2.0.9)\n",
      "Requirement already satisfied: jedi>=0.10 in c:\\users\\usuario\\anaconda3\\lib\\site-packages (from ipython>=3.2.3->pyfolio) (0.13.3)\n",
      "Requirement already satisfied: traitlets>=4.2 in c:\\users\\usuario\\anaconda3\\lib\\site-packages (from ipython>=3.2.3->pyfolio) (4.3.2)\n",
      "Requirement already satisfied: pickleshare in c:\\users\\usuario\\anaconda3\\lib\\site-packages (from ipython>=3.2.3->pyfolio) (0.7.5)\n",
      "Requirement already satisfied: six in c:\\users\\usuario\\anaconda3\\lib\\site-packages (from cycler>=0.10->matplotlib>=1.4.0->pyfolio) (1.12.0)\n",
      "Requirement already satisfied: lxml in c:\\users\\usuario\\anaconda3\\lib\\site-packages (from pandas-datareader>=0.2->empyrical>=0.5.0->pyfolio) (4.6.2)\n",
      "Requirement already satisfied: requests>=2.19.0 in c:\\users\\usuario\\anaconda3\\lib\\site-packages (from pandas-datareader>=0.2->empyrical>=0.5.0->pyfolio) (2.21.0)\n",
      "Requirement already satisfied: wcwidth in c:\\users\\usuario\\anaconda3\\lib\\site-packages (from prompt-toolkit<2.1.0,>=2.0.0->ipython>=3.2.3->pyfolio) (0.1.7)\n",
      "Requirement already satisfied: parso>=0.3.0 in c:\\users\\usuario\\anaconda3\\lib\\site-packages (from jedi>=0.10->ipython>=3.2.3->pyfolio) (0.3.4)\n",
      "Requirement already satisfied: ipython-genutils in c:\\users\\usuario\\anaconda3\\lib\\site-packages (from traitlets>=4.2->ipython>=3.2.3->pyfolio) (0.2.0)\n",
      "Requirement already satisfied: urllib3<1.25,>=1.21.1 in c:\\users\\usuario\\anaconda3\\lib\\site-packages (from requests>=2.19.0->pandas-datareader>=0.2->empyrical>=0.5.0->pyfolio) (1.24.1)\n",
      "Requirement already satisfied: certifi>=2017.4.17 in c:\\users\\usuario\\anaconda3\\lib\\site-packages (from requests>=2.19.0->pandas-datareader>=0.2->empyrical>=0.5.0->pyfolio) (2019.3.9)\n",
      "Requirement already satisfied: idna<2.9,>=2.5 in c:\\users\\usuario\\anaconda3\\lib\\site-packages (from requests>=2.19.0->pandas-datareader>=0.2->empyrical>=0.5.0->pyfolio) (2.8)\n",
      "Requirement already satisfied: chardet<3.1.0,>=3.0.2 in c:\\users\\usuario\\anaconda3\\lib\\site-packages (from requests>=2.19.0->pandas-datareader>=0.2->empyrical>=0.5.0->pyfolio) (3.0.4)\n"
     ]
    }
   ],
   "source": [
    "import warnings\n",
    "warnings.filterwarnings(\"ignore\")\n",
    "!pip install yfinance\n",
    "!pip install pyfolio\n",
    "import pandas as pd\n",
    "import numpy as np\n",
    "import yfinance as yf\n",
    "import pyfolio as pf\n",
    "import datetime as dt\n",
    "import matplotlib.pyplot as plt\n"
   ]
  },
  {
   "cell_type": "code",
   "execution_count": 33,
   "metadata": {},
   "outputs": [],
   "source": [
    "activos = ['AAPL','XOM','PG','V','AMZN','FB','BRK-B']\n",
    "fechas = ['2019-8-24', '2020-8-24']\n",
    "stock = pd.DataFrame()\n",
    "for activo in activos:\n",
    "    stock[activo] = yf.Ticker(activo).history(period='1d', start=fechas[0], end=fechas[1])['Close']\n",
    "stock\n",
    "rt= np.log(stock/stock.shift(1))\n",
    "\n",
    "#PRECIO Y RETORNO BENCHMARK\n",
    "sp=['^GSPC']\n",
    "ben = pd.DataFrame()\n",
    "for activo in sp:\n",
    "    ben[activo] = yf.Ticker(activo).history(period='1d', start=fechas[0], end=fechas[1])['Close']\n",
    "ben\n",
    "rtb=np.log(ben/ben.shift(1))\n"
   ]
  },
  {
   "cell_type": "code",
   "execution_count": 34,
   "metadata": {},
   "outputs": [],
   "source": [
    "\n",
    "def get_feasible_solution(size):\n",
    "    W=np.zeros((size,len(activos)))\n",
    "    for i in range(size):\n",
    "        weights = np.random.random(len(activos))\n",
    "        weights /= np.sum(weights)\n",
    "        W[i]=weights\n",
    "    return (W)\n",
    "\n",
    "\n",
    "#Función objetivo:\n",
    "def OF(W):\n",
    "    rf=0.0208\n",
    "    rp= np.sum( (rt.mean() * W * 252)) \n",
    "    vol= np.sqrt(np.dot(W.T, np.dot(rt.cov()*252, W)))\n",
    "    rb= np.sum( (rtb.mean() * 252)) \n",
    "    port_rt=pd.DataFrame((rt*W).sum(axis=1))\n",
    "    port_rt['sp']=rtb\n",
    "    cov=(port_rt[1:].cov()).iloc[0,1]\n",
    "    var_b=np.var(rt)\n",
    "\n",
    "    sharpe= (rp-rf)/vol\n",
    "    alfa=rp-rb\n",
    "    beta=cov/var_b\n",
    "\n",
    "    return (sharpe+alfa-abs(beta))    \n",
    "\n",
    "   "
   ]
  },
  {
   "cell_type": "code",
   "execution_count": 27,
   "metadata": {},
   "outputs": [],
   "source": [
    "def union(padre1, padre2):\n",
    "    sol1 = padre1[0]\n",
    "    sol2 = padre2[0]\n",
    "    \n",
    "    # Definir como se hará la unión\n",
    "    #LA UNION LA HARÁ ANDREA\n",
    "    #\n",
    "    \n",
    "    return (\"Aqui debe ir la lista de ponderaciones\", OF((n_media,n_desv)))\n",
    "    \n",
    "\n",
    "def mutate(solucion):\n",
    "    sol = solucion[0]\n",
    "    \n",
    "    # Definir como se hará la mutación\n",
    "    \n",
    "    return (\"Aqui debe ir la lista de ponderaciones\", OF((n_media,n_desv)))"
   ]
  },
  {
   "cell_type": "code",
   "execution_count": 10,
   "metadata": {},
   "outputs": [],
   "source": [
    "def initialPopulation(population):\n",
    "    pop=[]\n",
    "    for ind in range(population):\n",
    "        sol = get_feasible_solution()\n",
    "        pop.append((sol, OF(sol)))\n",
    "    return pop\n",
    "\n",
    "def sortGeneration(population):\n",
    "    \"\"\"\n",
    "    Sort population by OF.\n",
    "    \"\"\"\n",
    "    if  population==[]: \n",
    "        return []\n",
    "    else:\n",
    "        # para maximizar\n",
    "        pivot = population[0]\n",
    "        bads = sortGeneration([ind for ind in population[1:] if ind[1] < pivot[1]])\n",
    "        goods = sortGeneration([ind for ind in population[1:] if ind[1] >= pivot[1]])\n",
    "        return goods + [pivot] + bads\n",
    "        \n",
    "        # para minimizar\n",
    "        # pivot = population[0]\n",
    "        # bads = sortGeneration([ind for ind in population[1:] if ind[1] > pivot[1]])\n",
    "        # goods = sortGeneration([ind for ind in population[1:] if ind[1] <= pivot[1]])\n",
    "        # return goods + [pivot] + bads\n",
    "    \n",
    "    \n",
    "\n",
    "def selectTournament(population):\n",
    "    pop_size = max([2, int(0.1 * population)])\n",
    "    group1 = np.random.choice(a = range(population), size = pop_size, replace = False) # 3,7,8,20,25,60\n",
    "    group2 = np.random.choice(a = range(population), size = pop_size, replace = False) # 9,0\n",
    "    return (min(group1), min(group2))\n",
    "\n",
    "def GA(generations, population, n_children, p_mutation):\n",
    "    \"\"\"\n",
    "    Genetic algorithm search\n",
    "    \"\"\"\n",
    "\n",
    "    pop = initialPopulation(population)\n",
    "    overall_best = []\n",
    "    generation = 1\n",
    "    while generation <= generations:\n",
    "        children = []\n",
    "        pop = sortGeneration(pop)\n",
    "        overall_best.append(pop[0][1])\n",
    "        for aux in range(n_children):                \n",
    "            pos = selectTournament(population)\n",
    "            parent1 = pop[pos[0]]\n",
    "            parent2 = pop[pos[1]]\n",
    "            \n",
    "            child = union(parent1, parent2)\n",
    "\n",
    "            if np.random.rand() <= p_mutation:\n",
    "                child = mutate(child)\n",
    "            children.append(child)\n",
    "        pop = pop[:(population - n_children)] + children\n",
    "        generation += 1\n",
    "\n",
    "    pop = sortGeneration(pop)\n",
    "    overall_best.append(pop[0][1])\n",
    "    best_config_found = pop[0][0]\n",
    "    best_OF_found = OF(best_config_found)\n",
    "    return {'best_w':best_config_found, 'best_fo':best_OF_found,'overall_best':overall_best}"
   ]
  },
  {
   "cell_type": "code",
   "execution_count": 11,
   "metadata": {},
   "outputs": [
    {
     "data": {
      "image/png": "[encoded data removed]",
      "text/plain": [
       "<Figure size 432x288 with 1 Axes>"
      ]
     },
     "metadata": {
      "needs_background": "light"
     },
     "output_type": "display_data"
    }
   ],
   "source": [
    "Example = GA(10, 100, 40, 0.05)\n",
    "plt.plot(Example['overall_best'])\n",
    "plt.show()"
   ]
  },
  {
   "cell_type": "markdown",
   "metadata": {},
   "source": [
    "# Backtesting"
   ]
  },
  {
   "cell_type": "code",
   "execution_count": null,
   "metadata": {},
   "outputs": [],
   "source": []
  }
 ],
 "metadata": {
  "kernelspec": {
   "display_name": "Python 3",
   "language": "python",
   "name": "python3"
  },
  "language_info": {
   "codemirror_mode": {
    "name": "ipython",
    "version": 3
   },
   "file_extension": ".py",
   "mimetype": "text/x-python",
   "name": "python",
   "nbconvert_exporter": "python",
   "pygments_lexer": "ipython3",
   "version": "3.7.3"
  }
 },
 "nbformat": 4,
 "nbformat_minor": 4
}
